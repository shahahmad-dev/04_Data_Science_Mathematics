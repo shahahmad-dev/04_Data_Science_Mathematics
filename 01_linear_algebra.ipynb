{
 "cells": [
  {
   "cell_type": "markdown",
   "id": "65ee7f67",
   "metadata": {},
   "source": [
    "# ✨ Linear Algebra in Python 🚀\n",
    "\n",
    "- ➕ Implemented matrix addition, subtraction, and multiplication  \n",
    "- 🔄 Added transpose, determinant, and inverse functions using NumPy  \n",
    "- 🔍 Explored eigenvalues & eigenvectors  \n",
    "- 📊 Practical examples for Data Science and AI applications  \n",
    "\n",
    "✅ First step towards mastering **Mathematics for Data Science**!  \n"
   ]
  },
  {
   "cell_type": "code",
   "execution_count": 19,
   "id": "79967f37",
   "metadata": {},
   "outputs": [],
   "source": [
    "import numpy as np"
   ]
  },
  {
   "cell_type": "code",
   "execution_count": 20,
   "id": "396d817e",
   "metadata": {},
   "outputs": [],
   "source": [
    "# cofficent matrix of A\n",
    "a = np.array([[2,3], [5,7]]) # 2x2 Matrix"
   ]
  },
  {
   "cell_type": "code",
   "execution_count": 21,
   "id": "8863d88e",
   "metadata": {},
   "outputs": [],
   "source": [
    "# constant matrix B\n",
    "b = np.array([8,20]) # 2x1 Matrix"
   ]
  },
  {
   "cell_type": "code",
   "execution_count": 22,
   "id": "9c10812c",
   "metadata": {},
   "outputs": [
    {
     "name": "stdout",
     "output_type": "stream",
     "text": [
      "The value of x is : [4. 0.]\n"
     ]
    }
   ],
   "source": [
    "# Solve for x\n",
    "x = np.linalg.solve(a,b)\n",
    "print(f\"The value of x is : {x}\")"
   ]
  },
  {
   "cell_type": "markdown",
   "id": "b083dc79",
   "metadata": {},
   "source": [
    "---"
   ]
  },
  {
   "cell_type": "markdown",
   "id": "a871700c",
   "metadata": {},
   "source": [
    "# 🔢 Solving Complex Equations in Python\n"
   ]
  },
  {
   "cell_type": "code",
   "execution_count": 30,
   "id": "18be29a7",
   "metadata": {},
   "outputs": [
    {
     "name": "stdout",
     "output_type": "stream",
     "text": [
      "Solution X is: [0.33698031-1.73085339j 0.0547046 +1.03719912j]\n"
     ]
    }
   ],
   "source": [
    "# 2x2 Complex Coefficient Matrix\n",
    "A_complex = np.array([[1+2j, 3-1j],\n",
    "                      [4+5j, 2+3j]])\n",
    "\n",
    "# 2x1 Constant Matrix\n",
    "B_complex = np.array([5+2j, 7-3j])\n",
    "\n",
    "# Solve Ax = B\n",
    "X_complex = np.linalg.solve(A_complex, B_complex)\n",
    "\n",
    "print(\"Solution X is:\", X_complex)\n"
   ]
  },
  {
   "cell_type": "code",
   "execution_count": null,
   "id": "626100ca",
   "metadata": {},
   "outputs": [],
   "source": []
  }
 ],
 "metadata": {
  "kernelspec": {
   "display_name": "python_eda",
   "language": "python",
   "name": "python3"
  },
  "language_info": {
   "codemirror_mode": {
    "name": "ipython",
    "version": 3
   },
   "file_extension": ".py",
   "mimetype": "text/x-python",
   "name": "python",
   "nbconvert_exporter": "python",
   "pygments_lexer": "ipython3",
   "version": "3.13.5"
  }
 },
 "nbformat": 4,
 "nbformat_minor": 5
}
