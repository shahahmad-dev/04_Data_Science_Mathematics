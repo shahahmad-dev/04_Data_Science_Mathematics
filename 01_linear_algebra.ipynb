{
 "cells": [
  {
   "cell_type": "markdown",
   "id": "65ee7f67",
   "metadata": {},
   "source": [
    "# ✨ Linear Algebra in Python 🚀\n",
    "\n",
    "- ➕ Implemented matrix addition, subtraction, and multiplication  \n",
    "- 🔄 Added transpose, determinant, and inverse functions using NumPy  \n",
    "- 🔍 Explored eigenvalues & eigenvectors  \n",
    "- 📊 Practical examples for Data Science and AI applications  \n",
    "\n",
    "✅ First step towards mastering **Mathematics for Data Science**!  \n"
   ]
  },
  {
   "cell_type": "code",
   "execution_count": 4,
   "id": "79967f37",
   "metadata": {},
   "outputs": [],
   "source": [
    "import numpy as np"
   ]
  },
  {
   "cell_type": "code",
   "execution_count": null,
   "id": "396d817e",
   "metadata": {},
   "outputs": [],
   "source": [
    "# cofficent matrix of A\n",
    "a = np.array([[2,3], [5,7]]) # 2x2 Matrix"
   ]
  },
  {
   "cell_type": "code",
   "execution_count": null,
   "id": "8863d88e",
   "metadata": {},
   "outputs": [],
   "source": [
    "# constant matrix B\n",
    "b = np.array([8,20]) # 2x1 Matrix"
   ]
  },
  {
   "cell_type": "code",
   "execution_count": 10,
   "id": "9c10812c",
   "metadata": {},
   "outputs": [
    {
     "name": "stdout",
     "output_type": "stream",
     "text": [
      "The value of x is : [4. 0.]\n"
     ]
    }
   ],
   "source": [
    "# Solve for x\n",
    "x = np.linalg.solve(a,b)\n",
    "print(f\"The value of x is : {x}\")"
   ]
  },
  {
   "cell_type": "code",
   "execution_count": null,
   "id": "fa8549bb",
   "metadata": {},
   "outputs": [],
   "source": []
  }
 ],
 "metadata": {
  "kernelspec": {
   "display_name": "python_eda",
   "language": "python",
   "name": "python3"
  },
  "language_info": {
   "codemirror_mode": {
    "name": "ipython",
    "version": 3
   },
   "file_extension": ".py",
   "mimetype": "text/x-python",
   "name": "python",
   "nbconvert_exporter": "python",
   "pygments_lexer": "ipython3",
   "version": "3.13.5"
  }
 },
 "nbformat": 4,
 "nbformat_minor": 5
}
